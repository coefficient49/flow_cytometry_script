{
 "cells": [
  {
   "cell_type": "markdown",
   "metadata": {},
   "source": [
    "Starting:\n",
    "Make sure you have at least these dependencies:\n",
    "```\n",
    "python ver. >3\n",
    "numpy\n",
    "pandas\n",
    "seaborn\n",
    "matplotlib\n",
    "scipy\n",
    "flowcyto_script\n",
    "FlowCytometryTools\n",
    "```\n",
    "\n"
   ]
  },
  {
   "cell_type": "markdown",
   "metadata": {},
   "source": [
    "initialize the script:\n"
   ]
  },
  {
   "cell_type": "code",
   "execution_count": 68,
   "metadata": {},
   "outputs": [
    {
     "name": "stdout",
     "output_type": "stream",
     "text": [
      "\n",
      "\n",
      "we found these files:\n",
      "\n",
      "/home/jeron/Documents/flow_data/20181207_HEK_COS/Specimen_001_Tube_001.fcs\n",
      "/home/jeron/Documents/flow_data/20181207_HEK_COS/Specimen_001_Tube_002.fcs\n",
      "/home/jeron/Documents/flow_data/20181207_HEK_COS/Specimen_001_Tube_003.fcs\n",
      "/home/jeron/Documents/flow_data/20181207_HEK_COS/Specimen_001_Tube_004.fcs\n",
      "/home/jeron/Documents/flow_data/20181207_HEK_COS/Specimen_001_Tube_005.fcs\n",
      "/home/jeron/Documents/flow_data/20181207_HEK_COS/Specimen_001_Tube_006.fcs\n",
      "/home/jeron/Documents/flow_data/20181207_HEK_COS/Specimen_001_Tube_007.fcs\n",
      "/home/jeron/Documents/flow_data/20181207_HEK_COS/Specimen_001_Tube_008.fcs\n",
      "/home/jeron/Documents/flow_data/20181207_HEK_COS/Specimen_001_Tube_009.fcs\n",
      "/home/jeron/Documents/flow_data/20181207_HEK_COS/Specimen_001_Tube_010.fcs\n",
      "/home/jeron/Documents/flow_data/20181207_HEK_COS/Specimen_001_Tube_011.fcs\n",
      "/home/jeron/Documents/flow_data/20181207_HEK_COS/Specimen_001_Tube_012.fcs\n",
      "/home/jeron/Documents/flow_data/20181207_HEK_COS/Specimen_001_Tube_013.fcs\n",
      "/home/jeron/Documents/flow_data/20181207_HEK_COS/Specimen_001_Tube_014.fcs\n",
      "/home/jeron/Documents/flow_data/20181207_HEK_COS/Specimen_001_Tube_015.fcs\n",
      "/home/jeron/Documents/flow_data/20181207_HEK_COS/Specimen_001_Tube_016.fcs\n",
      "/home/jeron/Documents/flow_data/20181207_HEK_COS/Specimen_001_Tube_017.fcs\n",
      "/home/jeron/Documents/flow_data/20181207_HEK_COS/Specimen_001_Tube_018.fcs\n"
     ]
    }
   ],
   "source": [
    "from flowcyto_script import flowData as fD\n",
    "from flowcyto_script import dataCollector as collector\n",
    "from flowcyto_script import gates\n",
    "import pandas as pd\n",
    "import seaborn as sns\n",
    "import numpy as np\n",
    "import matplotlib.pyplot as plt\n",
    "\n",
    "sns.set(font_scale=2)  #big fonts\n",
    "# folderDir = '/home/jeron/Documents/flow_data/20181207_HEK_COS/'\n",
    "folderDir =input('What is the folder path to the fcs files? i.e. /home/jeron/Documents/flow_data/20181207_HEK_COS/\\n\\n')\n",
    "filePaths_fcs = !ls $folderDir*.fcs\n",
    "filePaths_csv = !ls $folderDir*sample*.csv\n",
    "print('\\n\\nwe found these files:\\n')\n",
    "for x in filePaths_fcs:\n",
    "    print(x)"
   ]
  },
  {
   "cell_type": "markdown",
   "metadata": {},
   "source": [
    "## Analysis\n",
    "Analyzing with gating (for custom gating use <fD_obj>.cGate(vertice))"
   ]
  },
  {
   "cell_type": "code",
   "execution_count": 11,
   "metadata": {},
   "outputs": [
    {
     "name": "stdout",
     "output_type": "stream",
     "text": [
      "Analyzed data saved to \"/home/jeron/Documents/flow_data/20181207_HEK_COS/flowData_out.csv\"\n",
      "\n",
      "Data preview:\n"
     ]
    },
    {
     "data": {
      "text/html": [
       "<div>\n",
       "<style scoped>\n",
       "    .dataframe tbody tr th:only-of-type {\n",
       "        vertical-align: middle;\n",
       "    }\n",
       "\n",
       "    .dataframe tbody tr th {\n",
       "        vertical-align: top;\n",
       "    }\n",
       "\n",
       "    .dataframe thead th {\n",
       "        text-align: right;\n",
       "    }\n",
       "</style>\n",
       "<table border=\"1\" class=\"dataframe\">\n",
       "  <thead>\n",
       "    <tr style=\"text-align: right;\">\n",
       "      <th></th>\n",
       "      <th>cells</th>\n",
       "      <th>MOI</th>\n",
       "      <th>Virus</th>\n",
       "      <th>geoMean</th>\n",
       "      <th>Percent +ve (%)</th>\n",
       "      <th>TI</th>\n",
       "      <th>flow_date</th>\n",
       "    </tr>\n",
       "  </thead>\n",
       "  <tbody>\n",
       "    <tr>\n",
       "      <th>0</th>\n",
       "      <td>HEK293T</td>\n",
       "      <td>1000</td>\n",
       "      <td>L6</td>\n",
       "      <td>266.711</td>\n",
       "      <td>20.9846</td>\n",
       "      <td>55.9683</td>\n",
       "      <td>07-DEC-2018</td>\n",
       "    </tr>\n",
       "    <tr>\n",
       "      <th>1</th>\n",
       "      <td>HEK293T</td>\n",
       "      <td>1000</td>\n",
       "      <td>L6</td>\n",
       "      <td>260.115</td>\n",
       "      <td>20.1771</td>\n",
       "      <td>52.4837</td>\n",
       "      <td>07-DEC-2018</td>\n",
       "    </tr>\n",
       "    <tr>\n",
       "      <th>2</th>\n",
       "      <td>HEK293T</td>\n",
       "      <td>1000</td>\n",
       "      <td>L6</td>\n",
       "      <td>255.858</td>\n",
       "      <td>21.3613</td>\n",
       "      <td>54.6545</td>\n",
       "      <td>07-DEC-2018</td>\n",
       "    </tr>\n",
       "    <tr>\n",
       "      <th>3</th>\n",
       "      <td>HEK293T</td>\n",
       "      <td>5000</td>\n",
       "      <td>L6</td>\n",
       "      <td>403.005</td>\n",
       "      <td>57.1206</td>\n",
       "      <td>230.199</td>\n",
       "      <td>07-DEC-2018</td>\n",
       "    </tr>\n",
       "    <tr>\n",
       "      <th>4</th>\n",
       "      <td>HEK293T</td>\n",
       "      <td>5000</td>\n",
       "      <td>L6</td>\n",
       "      <td>398.131</td>\n",
       "      <td>57.8274</td>\n",
       "      <td>230.229</td>\n",
       "      <td>07-DEC-2018</td>\n",
       "    </tr>\n",
       "    <tr>\n",
       "      <th>5</th>\n",
       "      <td>HEK293T</td>\n",
       "      <td>5000</td>\n",
       "      <td>L6</td>\n",
       "      <td>385.252</td>\n",
       "      <td>58.936</td>\n",
       "      <td>227.052</td>\n",
       "      <td>07-DEC-2018</td>\n",
       "    </tr>\n",
       "    <tr>\n",
       "      <th>6</th>\n",
       "      <td>HEK293T</td>\n",
       "      <td>10000</td>\n",
       "      <td>L6</td>\n",
       "      <td>582.833</td>\n",
       "      <td>74.0169</td>\n",
       "      <td>431.395</td>\n",
       "      <td>07-DEC-2018</td>\n",
       "    </tr>\n",
       "    <tr>\n",
       "      <th>7</th>\n",
       "      <td>HEK293T</td>\n",
       "      <td>10000</td>\n",
       "      <td>L6</td>\n",
       "      <td>539.874</td>\n",
       "      <td>73.0018</td>\n",
       "      <td>394.118</td>\n",
       "      <td>07-DEC-2018</td>\n",
       "    </tr>\n",
       "    <tr>\n",
       "      <th>8</th>\n",
       "      <td>HEK293T</td>\n",
       "      <td>10000</td>\n",
       "      <td>L6</td>\n",
       "      <td>540.925</td>\n",
       "      <td>72.5895</td>\n",
       "      <td>392.655</td>\n",
       "      <td>07-DEC-2018</td>\n",
       "    </tr>\n",
       "    <tr>\n",
       "      <th>9</th>\n",
       "      <td>COS7</td>\n",
       "      <td>1000</td>\n",
       "      <td>L6</td>\n",
       "      <td>206.312</td>\n",
       "      <td>3.50877</td>\n",
       "      <td>7.23902</td>\n",
       "      <td>07-DEC-2018</td>\n",
       "    </tr>\n",
       "    <tr>\n",
       "      <th>10</th>\n",
       "      <td>COS7</td>\n",
       "      <td>1000</td>\n",
       "      <td>L6</td>\n",
       "      <td>214.4</td>\n",
       "      <td>3.78028</td>\n",
       "      <td>8.10495</td>\n",
       "      <td>07-DEC-2018</td>\n",
       "    </tr>\n",
       "    <tr>\n",
       "      <th>11</th>\n",
       "      <td>COS7</td>\n",
       "      <td>1000</td>\n",
       "      <td>L6</td>\n",
       "      <td>208.472</td>\n",
       "      <td>3.8988</td>\n",
       "      <td>8.12792</td>\n",
       "      <td>07-DEC-2018</td>\n",
       "    </tr>\n",
       "    <tr>\n",
       "      <th>12</th>\n",
       "      <td>COS7</td>\n",
       "      <td>5000</td>\n",
       "      <td>L6</td>\n",
       "      <td>252.959</td>\n",
       "      <td>12.0348</td>\n",
       "      <td>30.4431</td>\n",
       "      <td>07-DEC-2018</td>\n",
       "    </tr>\n",
       "    <tr>\n",
       "      <th>13</th>\n",
       "      <td>COS7</td>\n",
       "      <td>5000</td>\n",
       "      <td>L6</td>\n",
       "      <td>247.97</td>\n",
       "      <td>10.9836</td>\n",
       "      <td>27.236</td>\n",
       "      <td>07-DEC-2018</td>\n",
       "    </tr>\n",
       "    <tr>\n",
       "      <th>14</th>\n",
       "      <td>COS7</td>\n",
       "      <td>5000</td>\n",
       "      <td>L6</td>\n",
       "      <td>252.037</td>\n",
       "      <td>11.0424</td>\n",
       "      <td>27.8309</td>\n",
       "      <td>07-DEC-2018</td>\n",
       "    </tr>\n",
       "    <tr>\n",
       "      <th>15</th>\n",
       "      <td>COS7</td>\n",
       "      <td>10000</td>\n",
       "      <td>L6</td>\n",
       "      <td>283.931</td>\n",
       "      <td>17.3732</td>\n",
       "      <td>49.3281</td>\n",
       "      <td>07-DEC-2018</td>\n",
       "    </tr>\n",
       "    <tr>\n",
       "      <th>16</th>\n",
       "      <td>COS7</td>\n",
       "      <td>10000</td>\n",
       "      <td>L6</td>\n",
       "      <td>282.566</td>\n",
       "      <td>16.7703</td>\n",
       "      <td>47.3871</td>\n",
       "      <td>07-DEC-2018</td>\n",
       "    </tr>\n",
       "    <tr>\n",
       "      <th>17</th>\n",
       "      <td>COS7</td>\n",
       "      <td>10000</td>\n",
       "      <td>L6</td>\n",
       "      <td>273.939</td>\n",
       "      <td>16.9705</td>\n",
       "      <td>46.4889</td>\n",
       "      <td>07-DEC-2018</td>\n",
       "    </tr>\n",
       "  </tbody>\n",
       "</table>\n",
       "</div>"
      ],
      "text/plain": [
       "      cells    MOI Virus  geoMean Percent +ve (%)       TI    flow_date\n",
       "0   HEK293T   1000    L6  266.711         20.9846  55.9683  07-DEC-2018\n",
       "1   HEK293T   1000    L6  260.115         20.1771  52.4837  07-DEC-2018\n",
       "2   HEK293T   1000    L6  255.858         21.3613  54.6545  07-DEC-2018\n",
       "3   HEK293T   5000    L6  403.005         57.1206  230.199  07-DEC-2018\n",
       "4   HEK293T   5000    L6  398.131         57.8274  230.229  07-DEC-2018\n",
       "5   HEK293T   5000    L6  385.252          58.936  227.052  07-DEC-2018\n",
       "6   HEK293T  10000    L6  582.833         74.0169  431.395  07-DEC-2018\n",
       "7   HEK293T  10000    L6  539.874         73.0018  394.118  07-DEC-2018\n",
       "8   HEK293T  10000    L6  540.925         72.5895  392.655  07-DEC-2018\n",
       "9      COS7   1000    L6  206.312         3.50877  7.23902  07-DEC-2018\n",
       "10     COS7   1000    L6    214.4         3.78028  8.10495  07-DEC-2018\n",
       "11     COS7   1000    L6  208.472          3.8988  8.12792  07-DEC-2018\n",
       "12     COS7   5000    L6  252.959         12.0348  30.4431  07-DEC-2018\n",
       "13     COS7   5000    L6   247.97         10.9836   27.236  07-DEC-2018\n",
       "14     COS7   5000    L6  252.037         11.0424  27.8309  07-DEC-2018\n",
       "15     COS7  10000    L6  283.931         17.3732  49.3281  07-DEC-2018\n",
       "16     COS7  10000    L6  282.566         16.7703  47.3871  07-DEC-2018\n",
       "17     COS7  10000    L6  273.939         16.9705  46.4889  07-DEC-2018"
      ]
     },
     "execution_count": 11,
     "metadata": {},
     "output_type": "execute_result"
    }
   ],
   "source": [
    "sampleDataEntry=pd.read_csv(filePaths_csv[0],delimiter='\\t')\n",
    "df1, collection =collector(sampleDataEntry,filePaths_fcs)\n",
    "df1.to_csv(folderDir+'flowData_out.csv')\n",
    "print('Analyzed data saved to \\\"{}flowData_out.csv\\\"'.format(folderDir))\n",
    "print('\\nData preview:')\n",
    "df1"
   ]
  },
  {
   "cell_type": "markdown",
   "metadata": {},
   "source": [
    "## Graphics"
   ]
  },
  {
   "cell_type": "code",
   "execution_count": 67,
   "metadata": {},
   "outputs": [
    {
     "data": {
      "text/plain": [
       "[<matplotlib.lines.Line2D at 0x7f2be416bc50>]"
      ]
     },
     "execution_count": 67,
     "metadata": {},
     "output_type": "execute_result"
    },
    {
     "data": {
      "image/png": "[encoded data removed]",
      "text/plain": [
       "<Figure size 432x432 with 3 Axes>"
      ]
     },
     "metadata": {},
     "output_type": "display_data"
    }
   ],
   "source": [
    "## show gating\n",
    "keys = list(collection.keys())\n",
    "\n",
    "# g=sns.jointplot(x=collection[keys[0]].Data['FSC-A'],y=collection[keys[0]].Data['SSC-A'],kind='kde')\n",
    "gates_P = gates[collection[keys[1]].Cells]\n",
    "gates_P.append(gates_P[0])\n",
    "X = [x for x ,y in gates_P]\n",
    "Y = [y for x ,y in gates_P]\n",
    "\n",
    "g=sns.jointplot(x=collection[keys[1]].Data['FSC-A'],y=collection[keys[1]].Data['SSC-A'],kind='kde')\n",
    "plt.sca(g.ax_joint)\n",
    "plt.plot(X,Y)"
   ]
  },
  {
   "cell_type": "code",
   "execution_count": 29,
   "metadata": {},
   "outputs": [
    {
     "name": "stderr",
     "output_type": "stream",
     "text": [
      "/home/jeron/anaconda3/lib/python3.6/site-packages/matplotlib/axes/_axes.py:6462: UserWarning: The 'normed' kwarg is deprecated, and has been replaced by the 'density' kwarg.\n",
      "  warnings.warn(\"The 'normed' kwarg is deprecated, and has been \"\n",
      "/home/jeron/anaconda3/lib/python3.6/site-packages/matplotlib/axes/_axes.py:6462: UserWarning: The 'normed' kwarg is deprecated, and has been replaced by the 'density' kwarg.\n",
      "  warnings.warn(\"The 'normed' kwarg is deprecated, and has been \"\n",
      "/home/jeron/anaconda3/lib/python3.6/site-packages/matplotlib/axes/_axes.py:6462: UserWarning: The 'normed' kwarg is deprecated, and has been replaced by the 'density' kwarg.\n",
      "  warnings.warn(\"The 'normed' kwarg is deprecated, and has been \"\n"
     ]
    },
    {
     "data": {
      "text/plain": [
       "Text(0.5,1,'HEK293T cells transduced with L6')"
      ]
     },
     "execution_count": 29,
     "metadata": {},
     "output_type": "execute_result"
    },
    {
     "data": {
      "image/png": "[encoded data removed]",
      "text/plain": [
       "<Figure size 720x360 with 1 Axes>"
      ]
     },
     "metadata": {},
     "output_type": "display_data"
    }
   ],
   "source": [
    "keys = list(collection.keys())\n",
    "specificFlows = [collection[keys[x]].Data for x in range(0,3)]\n",
    "specificFlows2 = [collection[keys[x]].Data for x in range(3,6)]\n",
    "specificFlows3 = [collection[keys[x]].Data for x in range(6,9)]\n",
    "\n",
    "specificFlows = pd.concat(specificFlows)\n",
    "specificFlows2 = pd.concat(specificFlows2)\n",
    "specificFlows3 = pd.concat(specificFlows3)\n",
    "\n",
    "fig3, ax3 = plt.subplots()\n",
    "g=sns.distplot(specificFlows['FITC-A'],bins=np.logspace(1,4.5,100),kde=False,ax=ax3)\n",
    "g=sns.distplot(specificFlows2['FITC-A'],bins=np.logspace(1,4.5,100),kde=False,ax=ax3)\n",
    "g=sns.distplot(specificFlows3['FITC-A'],bins=np.logspace(1,4.5,100),kde=False,ax=ax3)\n",
    "\n",
    "g.set_xscale('log')\n",
    "fig3.set_size_inches([10,5])\n",
    "g.legend(('MOI 1K','MOI 5K','MOI 10K'))\n",
    "ax3.set_title('HEK293T cells transduced with L6')\n"
   ]
  }
 ],
 "metadata": {
  "kernelspec": {
   "display_name": "Python 3",
   "language": "python",
   "name": "python3"
  },
  "language_info": {
   "codemirror_mode": {
    "name": "ipython",
    "version": 3
   },
   "file_extension": ".py",
   "mimetype": "text/x-python",
   "name": "python",
   "nbconvert_exporter": "python",
   "pygments_lexer": "ipython3",
   "version": "3.6.5"
  }
 },
 "nbformat": 4,
 "nbformat_minor": 2
}
